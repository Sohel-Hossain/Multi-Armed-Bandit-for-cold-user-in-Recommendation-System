{
 "cells": [
  {
   "cell_type": "code",
   "execution_count": null,
   "metadata": {},
   "outputs": [],
   "source": [
    "import math"
   ]
  },
  {
   "cell_type": "code",
   "execution_count": null,
   "metadata": {},
   "outputs": [],
   "source": [
    "DCG_true = []\n",
    "DCG_pred = []"
   ]
  },
  {
   "cell_type": "code",
   "execution_count": null,
   "metadata": {},
   "outputs": [],
   "source": [
    "class NDCG():\n",
    "    def DCG_compute():\n",
    "        \n",
    "#   Implementing equation 3    \n",
    "    def DCG_Normalize(self,n_users,dcg_true,dcg_pred):\n",
    "        for index in range(len(dcg_true)) :\n",
    "            ndcg += dcg_pred[index]/dcg_user[index]\n",
    "        return ndcg/n_users\n",
    "    \n",
    "#   Implementing equation 4\n",
    "    def DCG_Pred_perUser(self,r_u_t):\n",
    "        dcg = r_u_t[0]\n",
    "        for time in range(len(r_u_t)) :\n",
    "            if (time > 0) :\n",
    "                dcg += r_u_t[time]/(math.log(time,2))\n",
    "        \n",
    "    \n",
    "    \n",
    "        \n",
    "    "
   ]
  }
 ],
 "metadata": {
  "jupytext": {
   "text_representation": {
    "extension": ".Rmd",
    "format_name": "rmarkdown",
    "format_version": "1.0",
    "jupytext_version": "0.8.6"
   }
  },
  "kernelspec": {
   "display_name": "Python 3",
   "language": "python",
   "name": "python3"
  },
  "language_info": {
   "codemirror_mode": {
    "name": "ipython",
    "version": 3
   },
   "file_extension": ".py",
   "mimetype": "text/x-python",
   "name": "python",
   "nbconvert_exporter": "python",
   "pygments_lexer": "ipython3",
   "version": "3.7.1"
  }
 },
 "nbformat": 4,
 "nbformat_minor": 2
}
